{
 "cells": [
  {
   "cell_type": "code",
   "execution_count": 5,
   "id": "659b5a6e",
   "metadata": {},
   "outputs": [],
   "source": [
    "import pandas as pd\n",
    "\n",
    "# Read the data from the Excel file into a DataFrame\n",
    "df = pd.read_excel('528 ZIP Code Los Angeles CA.xlsx')\n",
    "\n",
    "# Sort the DataFrame in ascending order based on the 'Zip Code' column\n",
    "df_sorted = df.sort_values(by='ZIP Code', ascending=True)\n",
    "\n",
    "# Save the sorted DataFrame to an Excel file\n",
    "df_sorted.to_excel('Sort_528_LA_CA_Zip_accending.xlsx', index=False)"
   ]
  },
  {
   "cell_type": "code",
   "execution_count": null,
   "id": "f3d02aad",
   "metadata": {},
   "outputs": [],
   "source": []
  }
 ],
 "metadata": {
  "kernelspec": {
   "display_name": "Python 3 (ipykernel)",
   "language": "python",
   "name": "python3"
  },
  "language_info": {
   "codemirror_mode": {
    "name": "ipython",
    "version": 3
   },
   "file_extension": ".py",
   "mimetype": "text/x-python",
   "name": "python",
   "nbconvert_exporter": "python",
   "pygments_lexer": "ipython3",
   "version": "3.10.9"
  }
 },
 "nbformat": 4,
 "nbformat_minor": 5
}
