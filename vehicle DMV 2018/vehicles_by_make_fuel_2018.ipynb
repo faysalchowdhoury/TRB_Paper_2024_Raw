{
 "cells": [
  {
   "cell_type": "code",
   "execution_count": 1,
   "id": "b6f43c04",
   "metadata": {},
   "outputs": [
    {
     "data": {
      "text/html": [
       "<div>\n",
       "<style scoped>\n",
       "    .dataframe tbody tr th:only-of-type {\n",
       "        vertical-align: middle;\n",
       "    }\n",
       "\n",
       "    .dataframe tbody tr th {\n",
       "        vertical-align: top;\n",
       "    }\n",
       "\n",
       "    .dataframe thead th {\n",
       "        text-align: right;\n",
       "    }\n",
       "</style>\n",
       "<table border=\"1\" class=\"dataframe\">\n",
       "  <thead>\n",
       "    <tr style=\"text-align: right;\">\n",
       "      <th></th>\n",
       "      <th>Make</th>\n",
       "      <th>Fuel</th>\n",
       "      <th>Vehicles</th>\n",
       "    </tr>\n",
       "  </thead>\n",
       "  <tbody>\n",
       "    <tr>\n",
       "      <th>0</th>\n",
       "      <td>TOYOTA</td>\n",
       "      <td>Gasoline</td>\n",
       "      <td>261468</td>\n",
       "    </tr>\n",
       "    <tr>\n",
       "      <th>1</th>\n",
       "      <td>HONDA</td>\n",
       "      <td>Gasoline</td>\n",
       "      <td>219612</td>\n",
       "    </tr>\n",
       "    <tr>\n",
       "      <th>2</th>\n",
       "      <td>FORD</td>\n",
       "      <td>Gasoline</td>\n",
       "      <td>125736</td>\n",
       "    </tr>\n",
       "    <tr>\n",
       "      <th>3</th>\n",
       "      <td>OTHER/UNK</td>\n",
       "      <td>Gasoline</td>\n",
       "      <td>123104</td>\n",
       "    </tr>\n",
       "    <tr>\n",
       "      <th>4</th>\n",
       "      <td>CHEVROLET</td>\n",
       "      <td>Gasoline</td>\n",
       "      <td>116984</td>\n",
       "    </tr>\n",
       "    <tr>\n",
       "      <th>...</th>\n",
       "      <td>...</td>\n",
       "      <td>...</td>\n",
       "      <td>...</td>\n",
       "    </tr>\n",
       "    <tr>\n",
       "      <th>122</th>\n",
       "      <td>PORSCHE</td>\n",
       "      <td>Plug-in Hybrid</td>\n",
       "      <td>11</td>\n",
       "    </tr>\n",
       "    <tr>\n",
       "      <th>123</th>\n",
       "      <td>MERCEDES-BENZ</td>\n",
       "      <td>Plug-in Hybrid</td>\n",
       "      <td>11</td>\n",
       "    </tr>\n",
       "    <tr>\n",
       "      <th>124</th>\n",
       "      <td>BLUE BIRD</td>\n",
       "      <td>Diesel and Diesel Hybrid</td>\n",
       "      <td>11</td>\n",
       "    </tr>\n",
       "    <tr>\n",
       "      <th>125</th>\n",
       "      <td>MOTOR COACH INDUSTRIES</td>\n",
       "      <td>Natural Gas</td>\n",
       "      <td>11</td>\n",
       "    </tr>\n",
       "    <tr>\n",
       "      <th>126</th>\n",
       "      <td>MITSUBISHI</td>\n",
       "      <td>Plug-in Hybrid</td>\n",
       "      <td>11</td>\n",
       "    </tr>\n",
       "  </tbody>\n",
       "</table>\n",
       "<p>127 rows × 3 columns</p>\n",
       "</div>"
      ],
      "text/plain": [
       "                       Make                      Fuel  Vehicles\n",
       "0                    TOYOTA                  Gasoline    261468\n",
       "1                     HONDA                  Gasoline    219612\n",
       "2                      FORD                  Gasoline    125736\n",
       "3                 OTHER/UNK                  Gasoline    123104\n",
       "4                 CHEVROLET                  Gasoline    116984\n",
       "..                      ...                       ...       ...\n",
       "122                 PORSCHE            Plug-in Hybrid        11\n",
       "123           MERCEDES-BENZ            Plug-in Hybrid        11\n",
       "124               BLUE BIRD  Diesel and Diesel Hybrid        11\n",
       "125  MOTOR COACH INDUSTRIES               Natural Gas        11\n",
       "126              MITSUBISHI            Plug-in Hybrid        11\n",
       "\n",
       "[127 rows x 3 columns]"
      ]
     },
     "execution_count": 1,
     "metadata": {},
     "output_type": "execute_result"
    }
   ],
   "source": [
    "import pandas as pd\n",
    "pd.read_excel('vehicles_by_make_fuel_2018.xlsx')"
   ]
  },
  {
   "cell_type": "code",
   "execution_count": 2,
   "id": "c66bbc23",
   "metadata": {},
   "outputs": [
    {
     "name": "stdout",
     "output_type": "stream",
     "text": [
      "                       Make                          Fuel  Vehicles\n",
      "0                    TOYOTA                      Gasoline    261468\n",
      "1                     HONDA                      Gasoline    219612\n",
      "2                      FORD                      Gasoline    125736\n",
      "3                 OTHER/UNK                      Gasoline    123104\n",
      "4                 CHEVROLET                      Gasoline    116984\n",
      "..                      ...                           ...       ...\n",
      "122                 PORSCHE                   Electricity        11\n",
      "123           MERCEDES-BENZ                   Electricity        11\n",
      "124               BLUE BIRD                   Diesel Fuel        11\n",
      "125  MOTOR COACH INDUSTRIES  Compressed Natural Gas (CNG)        11\n",
      "126              MITSUBISHI                   Electricity        11\n",
      "\n",
      "[127 rows x 3 columns]\n"
     ]
    }
   ],
   "source": [
    "df = pd.read_excel('vehicles_by_make_fuel_2018.xlsx')\n",
    "\n",
    "# Define a dictionary to map old Fuel names to new names\n",
    "fuel_mapping = {\n",
    "    'Gasoline': 'Gasoline',\n",
    "    'Other': 'Other',\n",
    "    'Diesel and Diesel Hybrid': 'Diesel Fuel',\n",
    "    'Natural Gas': 'Compressed Natural Gas (CNG)',\n",
    "    'Hybrid Gasoline': 'Gasoline',\n",
    "    'Flex-Fuel': 'Ethanol (E-85)',\n",
    "    'Battery Electric': 'Electricity',\n",
    "    'Plug-in Hybrid': 'Electricity',\n",
    "    'Hydrogen Fuel Cell': 'Electricity',\n",
    "    # Add more mappings if needed\n",
    "}\n",
    "\n",
    "# Replace the Fuel names with the assigned names using the replace method\n",
    "df['Fuel'] = df['Fuel'].replace(fuel_mapping)\n",
    "\n",
    "# Print the DataFrame to see the updated data\n",
    "print(df)"
   ]
  },
  {
   "cell_type": "code",
   "execution_count": 3,
   "id": "3edca519",
   "metadata": {},
   "outputs": [
    {
     "name": "stdout",
     "output_type": "stream",
     "text": [
      "              Make                          Fuel  Vehicles\n",
      "0    Passenger Car                      Gasoline    261468\n",
      "1    Passenger Car                      Gasoline    219612\n",
      "2    Passenger Car                      Gasoline    125736\n",
      "3            Other                      Gasoline    123104\n",
      "4    Passenger Car                      Gasoline    116984\n",
      "..             ...                           ...       ...\n",
      "122  Passenger Car                   Electricity        11\n",
      "123  Passenger Car                   Electricity        11\n",
      "124     School Bus                   Diesel Fuel        11\n",
      "125    Transit Bus  Compressed Natural Gas (CNG)        11\n",
      "126  Passenger Car                   Electricity        11\n",
      "\n",
      "[127 rows x 3 columns]\n"
     ]
    }
   ],
   "source": [
    "# Define a dictionary to map old Make names to new names\n",
    "make_mapping = {\n",
    "    'TOYOTA': 'Toyota',\n",
    "    'OTHER/UNK': 'Other',\n",
    "'TOYOTA': 'Passenger Car',\n",
    "'FORD': 'Passenger Car', \n",
    "'CHEVROLET': 'Passenger Car', \n",
    "'HONDA': 'Passenger Car', \n",
    "'LEXUS': 'Passenger Car', \n",
    "'NISSAN': 'Passenger Car', \n",
    "'DODGE': 'Passenger Car', \n",
    "'MERCEDES-BENZ': 'Passenger Car', \n",
    "'BMW': 'Passenger Car', \n",
    "'HYUNDAI': 'Passenger Car', \n",
    "'VOLKSWAGEN': 'Passenger Car', \n",
    "'JEEP': 'Passenger Car', \n",
    "'SUBARU': 'Passenger Car', \n",
    "'KIA': 'Passenger Car', \n",
    "'GMC': 'Passenger Truck',\n",
    "'MAZDA': 'Passenger Car', \n",
    "'ACURA': 'Passenger Car', \n",
    "'AUDI': 'Passenger Car', \n",
    "'RAM': 'Passenger Truck',\n",
    "'INFINITI': 'Passenger Car', \n",
    "'TESLA': 'Passenger Car', \n",
    "'CADILLAC': 'Passenger Car', \n",
    "'SCION': 'Passenger Car', \n",
    "'PORSCHE': 'Passenger Car', \n",
    "'CHRYSLER': 'Passenger Car', \n",
    "'VOLVO': 'Passenger Car', \n",
    "'MINI': 'Passenger Car', \n",
    "'FREIGHTLINER': 'Light Commercial Truck',\n",
    "'LAND ROVER': 'Passenger Car', \n",
    "'BUICK': 'Passenger Car', \n",
    "'MITSUBISHI': 'Passenger Car', \n",
    "'Unk': 'Other',\n",
    "'LINCOLN': 'Passenger Car', \n",
    "'PONTIAC': 'Passenger Car', \n",
    "'PETERBILT': 'Combination Long-haul Truck',\n",
    "'SATURN': 'Passenger Car', \n",
    "'JAGUAR': 'Passenger Car', \n",
    "'MERCURY': 'Passenger Car', \n",
    "'KENWORTH': 'Combination Long-haul Truck',\n",
    "'INTERNATIONAL': 'Combination Long-haul Truck',\n",
    "'ISUZU': 'Single Unit Short-haul Truck',\n",
    "'HUMMER': 'Passenger Truck',\n",
    "'FIAT': 'Passenger Car', \n",
    "'SUZUKI': 'Passenger Car', \n",
    "'OLDSMOBILE': 'Passenger Car', \n",
    "'WORKHORSE': 'Light Commercial Truck',\n",
    "'GENESIS': 'Passenger Car', \n",
    "'HINO': 'Single Unit Short-haul Truck',\n",
    "'SAAB': 'Passenger Car', \n",
    "'PLYMOUTH': 'Passenger Car', \n",
    "'ALFA ROMEO': 'Passenger Car', \n",
    "'AUTOCAR': 'Single Unit Short-haul Truck',\n",
    "'RIVIAN': 'Passenger Car', \n",
    "'GEO': 'Passenger Car', \n",
    "'BLUE BIRD': 'School Bus',\n",
    "'GILLIG': 'Transit Bus',\n",
    "'THOMAS BUS': 'School Bus',\n",
    "'NEW FLYER': 'Transit Bus',\n",
    "'ROADMASTER': 'Single Unit Short-haul Truck',\n",
    "'MACK': 'Combination Long-haul Truck',\n",
    "'UNKNOWN': 'Other',\n",
    "'BENTLEY': 'Passenger Car', \n",
    "'FERRARI': 'Passenger Car', \n",
    "'MASERATI': 'Passenger Car', \n",
    "'IC BUS LLC': 'School Bus',\n",
    "'SMART': 'Passenger Car', \n",
    "'POLESTAR': 'Passenger Car', \n",
    "'SPARTAN': 'Combination Long-haul Truck',\n",
    "'IC BUS': 'School Bus',\n",
    "'VAN HOOL': 'Transit Bus',\n",
    "'PIERCE': 'Refuse Truck',\n",
    "'EL DORADO': 'Transit Bus',\n",
    "'KALMAR': 'Light Commercial Truck',\n",
    "'ROLLS-ROYCE': 'Passenger Car', \n",
    "'WESTERN STAR': 'Combination Long-haul Truck',\n",
    "'MOTOR COACH INDUSTRIES': 'Transit Bus',\n",
    "'BYD COACH AND BUS': 'Transit Bus',\n",
    "'NORTH AMERICAN BUS INDUSTRIES': 'Transit Bus',\n",
    "'AMERICAN LAFRANCE': 'Transit Bus',\n",
    "'KOVATCH MOBLIE EQUIPMENT CORP': 'Other Buses',\n",
    "'STERLING': 'Combination Long-haul Truck',\n",
    "'CRANE CARRIER': 'Combination Short-haul Truck',\n",
    "'LAMBORGHINI': 'Passenger Car', \n",
    "'FLXIBLE TRANSIT COACHES': 'Transit Bus',\n",
    "'ORION': 'Transit Bus',\n",
    "'ASTON MARTIN': 'Passenger Car', \n",
    "'HME': 'Combination Short-haul Truck',\n",
    "'PREVOST': 'Transit Bus',\n",
    "'CRUISE': 'Passenger Car',\n",
    "'AM GENERAL': 'Combination Short-haul Truck',\n",
    "'LUCID': 'Passenger Car', \n",
    "'TMC': 'Single Unit Long-haul Truck',\n",
    "'GLOBAL ENVIRONMENTAL': 'Transit Bus',\n",
    "'KOVATCH': 'Other Buses',\n",
    "'TICO': 'Single Unit Long-haul Truck',\n",
    "'WHITE/GMC': 'Single Unit Long-haul Truck',\n",
    "'GREENPOWER MOTOR': 'Transit Bus',\n",
    "'NORTH AMERICAN': 'Transit Bus',\n",
    "'NEOPLAN': 'Transit Bus',\n",
    "'ALLIANZ': 'Combination Short-haul Truck',\n",
    "'WHITE': 'Light Commercial Truck',\n",
    "'XOS': 'Transit Bus',\n",
    "'LODAL': 'Transit Bus',\n",
    "'PROTERRA': 'Transit Bus',\n",
    "'ARBOC': 'Transit Bus',\n",
    "'BLUEBIRD': 'School Bus',\n",
    "'MOTOR COACH IND': 'Transit Bus',\n",
    "'MAN TRUCK AND BUS CORPORATION': 'Combination Long-haul Truck',\n",
    "'CAPACITY': 'Single Unit Short-haul Truck',\n",
    "'EMERGENCY ONE': 'Refuse Truck',\n",
    "'BRIGHTDROP': 'Passenger Truck',\n",
    "'VPG': 'Passenger Car', \n",
    "'CATERPILLAR': 'Single Unit Long-haul Truck',\n",
    "'COUNTRY COACH': 'Motor Home',\n",
    "'SPECIAL CONSTRUCTION': 'Other',\n",
    "'FWD': 'Single Unit Short-haul Truck',\n",
    "'SEAGRAVE': 'Refuse Truck',\n",
    "'TROLLEY': 'Transit Bus',\n",
    "'ALEXANDER DENNIS': 'Transit Bus',\n",
    "'MG': 'Passenger Car', \n",
    "'ORANGE EV': 'Transit Bus',\n",
    "'OSHKOSH': 'Combination Short-haul Truck',\n",
    "'LOTUS': 'Passenger Car', \n",
    "\n",
    "    # Add more mappings if needed\n",
    "}\n",
    "\n",
    "# Replace the Make names with the assigned names using the replace method\n",
    "df['Make'] = df['Make'].replace(make_mapping)\n",
    "\n",
    "# Print the DataFrame to see the updated data\n",
    "print(df)"
   ]
  },
  {
   "cell_type": "code",
   "execution_count": 4,
   "id": "f919a884",
   "metadata": {},
   "outputs": [
    {
     "name": "stdout",
     "output_type": "stream",
     "text": [
      "                            Make                          Fuel  Vehicles\n",
      "0    Combination Long-haul Truck  Compressed Natural Gas (CNG)       650\n",
      "1    Combination Long-haul Truck                   Diesel Fuel      4870\n",
      "2   Combination Short-haul Truck                   Diesel Fuel        27\n",
      "3         Light Commercial Truck  Compressed Natural Gas (CNG)       151\n",
      "4         Light Commercial Truck                   Diesel Fuel      7855\n",
      "5         Light Commercial Truck                      Gasoline       533\n",
      "6         Light Commercial Truck                         Other        67\n",
      "7                          Other  Compressed Natural Gas (CNG)       511\n",
      "8                          Other                   Diesel Fuel     41050\n",
      "9                          Other                   Electricity     38161\n",
      "10                         Other                Ethanol (E-85)     24768\n",
      "11                         Other                      Gasoline    143408\n",
      "12                         Other                         Other        96\n",
      "13                         Other                           Unk      1198\n",
      "14                   Other Buses                   Diesel Fuel        24\n",
      "15                 Passenger Car                   Diesel Fuel      6435\n",
      "16                 Passenger Car                   Electricity     96145\n",
      "17                 Passenger Car                Ethanol (E-85)     29126\n",
      "18                 Passenger Car                      Gasoline   1431107\n",
      "19               Passenger Truck                   Diesel Fuel     12364\n",
      "20               Passenger Truck                Ethanol (E-85)      1043\n",
      "21               Passenger Truck                      Gasoline     32309\n",
      "22                  Refuse Truck                   Diesel Fuel        25\n",
      "23                    School Bus  Compressed Natural Gas (CNG)        41\n",
      "24                    School Bus                   Diesel Fuel        27\n",
      "25                    School Bus                      Gasoline        13\n",
      "26                    School Bus                         Other        74\n",
      "27  Single Unit Short-haul Truck  Compressed Natural Gas (CNG)       331\n",
      "28  Single Unit Short-haul Truck                   Diesel Fuel      1662\n",
      "29  Single Unit Short-haul Truck                      Gasoline       102\n",
      "30                   Transit Bus  Compressed Natural Gas (CNG)       182\n",
      "31                   Transit Bus                   Diesel Fuel       342\n",
      "32                   Transit Bus                   Electricity       213\n"
     ]
    }
   ],
   "source": [
    "# Group the DataFrame by 'Make' and 'Fuel' and calculate the sum of 'Vehicles'\n",
    "grouped_df = df.groupby(['Make', 'Fuel'])['Vehicles'].sum().reset_index()\n",
    "\n",
    "# Print the DataFrame to see the updated data\n",
    "print(grouped_df)\n",
    "\n"
   ]
  },
  {
   "cell_type": "code",
   "execution_count": 5,
   "id": "5fa51553",
   "metadata": {},
   "outputs": [],
   "source": [
    "# Save the filtered DataFrame as an Excel file (xlsx)\n",
    "grouped_df.to_excel('make_Fuel_Vehicles_2018.xlsx', index=False)"
   ]
  },
  {
   "cell_type": "code",
   "execution_count": 6,
   "id": "b3e73241",
   "metadata": {},
   "outputs": [
    {
     "name": "stdout",
     "output_type": "stream",
     "text": [
      "Total number of vehicles: 1874910\n"
     ]
    }
   ],
   "source": [
    "# Calculate the total of the 'Vehicles' column in the grouped DataFrame\n",
    "total_vehicles = grouped_df['Vehicles'].sum()\n",
    "print(\"Total number of vehicles:\", total_vehicles)"
   ]
  },
  {
   "cell_type": "code",
   "execution_count": 7,
   "id": "5fa4b497",
   "metadata": {},
   "outputs": [
    {
     "name": "stdout",
     "output_type": "stream",
     "text": [
      "                            Make                          Fuel  Vehicles\n",
      "0    Combination Long-haul Truck  Compressed Natural Gas (CNG)       650\n",
      "1    Combination Long-haul Truck                   Diesel Fuel      4870\n",
      "2   Combination Short-haul Truck                   Diesel Fuel        27\n",
      "3         Light Commercial Truck  Compressed Natural Gas (CNG)       151\n",
      "4         Light Commercial Truck                   Diesel Fuel      7855\n",
      "5         Light Commercial Truck                      Gasoline       533\n",
      "15                 Passenger Car                   Diesel Fuel      6435\n",
      "16                 Passenger Car                   Electricity     96145\n",
      "17                 Passenger Car                Ethanol (E-85)     29126\n",
      "18                 Passenger Car                      Gasoline   1431107\n",
      "19               Passenger Truck                   Diesel Fuel     12364\n",
      "20               Passenger Truck                Ethanol (E-85)      1043\n",
      "21               Passenger Truck                      Gasoline     32309\n",
      "22                  Refuse Truck                   Diesel Fuel        25\n",
      "23                    School Bus  Compressed Natural Gas (CNG)        41\n",
      "24                    School Bus                   Diesel Fuel        27\n",
      "25                    School Bus                      Gasoline        13\n",
      "27  Single Unit Short-haul Truck  Compressed Natural Gas (CNG)       331\n",
      "28  Single Unit Short-haul Truck                   Diesel Fuel      1662\n",
      "29  Single Unit Short-haul Truck                      Gasoline       102\n",
      "30                   Transit Bus  Compressed Natural Gas (CNG)       182\n",
      "31                   Transit Bus                   Diesel Fuel       342\n",
      "32                   Transit Bus                   Electricity       213\n"
     ]
    }
   ],
   "source": [
    "# Filter out rows where 'Make' or 'Fuel' is labeled as 'Other'\n",
    "grouped_df = grouped_df[~grouped_df['Make'].str.contains('Other') & ~grouped_df['Fuel'].str.contains('Other')]\n",
    "\n",
    "# Print the DataFrame to see the updated data\n",
    "print(grouped_df)"
   ]
  },
  {
   "cell_type": "code",
   "execution_count": 8,
   "id": "9109c05f",
   "metadata": {},
   "outputs": [
    {
     "name": "stdout",
     "output_type": "stream",
     "text": [
      "Total number of vehicles: 1625553\n"
     ]
    }
   ],
   "source": [
    "# Calculate the total of the 'Vehicles' column in the grouped DataFrame\n",
    "total_vehicles = grouped_df['Vehicles'].sum()\n",
    "print(\"Total number of vehicles:\", total_vehicles)"
   ]
  },
  {
   "cell_type": "code",
   "execution_count": 9,
   "id": "7be1c70f",
   "metadata": {},
   "outputs": [
    {
     "name": "stdout",
     "output_type": "stream",
     "text": [
      "Empty DataFrame\n",
      "Columns: [Make, Fuel, Vehicles]\n",
      "Index: []\n"
     ]
    }
   ],
   "source": [
    "\n",
    "# Filter the rows where 'Make' or 'Fuel' is labeled as 'Other' or 'UNK'\n",
    "filtered_df = grouped_df.loc[(grouped_df['Make'].isin(['Other', 'UNK'])) | (grouped_df['Fuel'].isin(['Other', 'UNK']))]\n",
    "\n",
    "# Print the filtered DataFrame to see the data where 'Make' or 'Fuel' is 'Other' or 'UNK'\n",
    "print(filtered_df)\n",
    "\n",
    "\n"
   ]
  },
  {
   "cell_type": "code",
   "execution_count": 10,
   "id": "f86d8e49",
   "metadata": {},
   "outputs": [
    {
     "name": "stdout",
     "output_type": "stream",
     "text": [
      "Total number of vehicles where 'Make' or 'Fuel' is 'Other' or 'UNK': 0\n"
     ]
    }
   ],
   "source": [
    "# Calculate the sum of the 'Vehicles' column in the filtered DataFrame\n",
    "total_vehicles = filtered_df['Vehicles'].sum()\n",
    "print(\"Total number of vehicles where 'Make' or 'Fuel' is 'Other' or 'UNK':\", total_vehicles)"
   ]
  },
  {
   "cell_type": "code",
   "execution_count": 11,
   "id": "a74a46b7",
   "metadata": {},
   "outputs": [
    {
     "data": {
      "text/plain": [
       "1874633"
      ]
     },
     "execution_count": 11,
     "metadata": {},
     "output_type": "execute_result"
    }
   ],
   "source": [
    "249080+1625553"
   ]
  },
  {
   "cell_type": "code",
   "execution_count": null,
   "id": "c66d67c8",
   "metadata": {},
   "outputs": [],
   "source": []
  }
 ],
 "metadata": {
  "kernelspec": {
   "display_name": "Python 3 (ipykernel)",
   "language": "python",
   "name": "python3"
  },
  "language_info": {
   "codemirror_mode": {
    "name": "ipython",
    "version": 3
   },
   "file_extension": ".py",
   "mimetype": "text/x-python",
   "name": "python",
   "nbconvert_exporter": "python",
   "pygments_lexer": "ipython3",
   "version": "3.10.9"
  }
 },
 "nbformat": 4,
 "nbformat_minor": 5
}
